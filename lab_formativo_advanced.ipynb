{
 "cells": [
  {
   "cell_type": "markdown",
   "metadata": {},
   "source": [
    "![Banner.png](data:image/png;base64,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)"
   ]
  },
  {
   "cell_type": "markdown",
   "metadata": {},
   "source": [
    "#### **IA Biomédica:** Laboratorio Sumativo PharmaNet\n",
    "\n",
    "\n",
    "> ##### Descubrimiento de Farmacos\n",
    "\n",
    "\n",
    "> **Instructores**\n",
    "\n",
    "*  Julio Castellanos\n"
   ]
  },
  {
   "cell_type": "markdown",
   "metadata": {},
   "source": [
    "## Taller de Entrenamiento e Inferencia con PharmaNet\n",
    "\n",
    "En este laboratorio, trabajaremos con el dataset DUDE para entrenar un modelo **PharmaNet** y realizar **inferencia** sobre datos nuevos. El objetivo principal es que realices los pasos propuestos **a forma de taller**, completando secciones de código donde se indique para reforzar tu aprendizaje práctico. Usa el Notebook del \"Laboratorio: Uso Avanzado para el Descubrimiento de Fármacos\" como referencia.\n",
    "\n",
    "## **Problema**\n",
    "En este taller, entrenarás un modelo con **2 folds** (dos particiones diferentes de entrenamiento y validación) sobre al menos **10 targets** que elijas del dataset DUDE. Además, agregarás un **target nuevo** (que no existe en los datos proporcionados originalmente) usando datos (posiblemente sintéticos) o SMILES obtenidos de alguna base (por ejemplo, **RCSB PDB**).\n",
    "\n",
    "Al finalizar, **compararás las métricas** entre los dos modelos resultantes y también con el modelo base presentado en el paper original. Finalmente, **comentarás** las diferencias observadas.\n",
    "\n",
    "### Pasos Generales:\n",
    "1. Configurar entorno e importar librerías.\n",
    "2. Descargar/preparar los datos del dataset DUDE.\n",
    "3. Seleccionar y filtrar al menos 10 targets diferentes.\n",
    "4. Incluir un target extra, no presente en DUDE, con datos sintéticos o reales.\n",
    "5. Generar archivos `train.csv` y `test.csv` para **dos folds distintos**.\n",
    "6. Definir el modelo y sus hiperparámetros.\n",
    "7. Entrenar el modelo para cada fold.\n",
    "8. Evaluar e inferir usando cada modelo entrenado.\n",
    "9. Visualizar la distribución de probabilidades y comparar métricas.\n",
    "10. Concluir sobre los resultados y diferencias entre modelos.\n",
    "\n",
    "\n",
    "\n"
   ]
  },
  {
   "cell_type": "code",
   "execution_count": null,
   "metadata": {},
   "outputs": [],
   "source": [
    "from __future__ import division, print_function\n",
    "\n",
    "import copy\n",
    "import os\n",
    "import time\n",
    "\n",
    "import numpy as np\n",
    "import pandas as pd\n",
    "import torch\n",
    "import torch.nn as nn\n",
    "import torch.nn.functional as F\n",
    "import torch.optim as optim\n",
    "\n",
    "from torch.utils.data import DataLoader\n",
    "from tqdm import tqdm\n",
    "\n",
    "# Modulos propios (asegúrate de tener estas rutas en tu proyecto)\n",
    "from data.data_loader import SMILESDataset\n",
    "from utils.metrics import pltauc, norm_ap_optimized\n",
    "from models.Model import Model\n",
    "\n",
    "\n",
    "print(\"PyTorch Version: \", torch.__version__)"
   ]
  },
  {
   "cell_type": "markdown",
   "metadata": {},
   "source": [
    "### Lectura de Datos\n",
    "\n",
    "En esta sección, leerás los datos del dataset DUDE. Normalmente se proveen varios archivos CSV que corresponden a SMILES y etiquetas para diferentes targets."
   ]
  },
  {
   "cell_type": "code",
   "execution_count": null,
   "metadata": {},
   "outputs": [],
   "source": [
    "# =============================================================================\n",
    "# TODO: En esta sección, carga los datos de DUDE (ej. Smiles_1.csv, Smiles_2.csv, etc.)\n",
    "# y concatena la información necesaria en un DataFrame.\n",
    "# =============================================================================\n",
    "\n",
    "# Ejemplo (ajusta rutas según tu organización de archivos):\n",
    "# train_path = \"data/datasets/DUDE/\"\n",
    "# df1 = pd.read_csv(train_path + \"Smiles_1.csv\")\n",
    "# df2 = pd.read_csv(train_path + \"Smiles_2.csv\")\n",
    "# ...\n",
    "\n",
    "# data_all = pd.concat([df1, df2, ...], ignore_index=True)\n",
    "# print(\"Total de ejemplos:\", len(data_all))"
   ]
  },
  {
   "cell_type": "markdown",
   "metadata": {},
   "source": [
    "### Selección, Filtrado de Targets y Creación de Folds\n",
    "\n",
    "1. Elige al menos 10 targets del conjunto DUDE que desees estudiar.\n",
    "2. Define un diccionario label_mapping para asignar índices a cada target.\n",
    "3. Agrega un target nuevo que no exista en DUDE. Puedes usar datos sintéticos o reales (por ejemplo, SMILES de alguna proteína en RCSB PDB).\n",
    "4. Crea dos folds:\n",
    "   - Fold 1: Entrenamiento y Test con cierto split de los datos\n",
    "   - Fold 2: Diferente partición de Entrenamiento y Test\n",
    "\n",
    "Guarda tus archivos train_data.csv y test_data.csv en carpetas separadas (por ejemplo, Fold1 y Fold2)."
   ]
  },
  {
   "cell_type": "code",
   "execution_count": null,
   "metadata": {},
   "outputs": [],
   "source": [
    "# =============================================================================\n",
    "# TODO: En esta sección, selecciona tus targets, crea 'label_mapping', filtra\n",
    "# los datos, y genera los archivos CSV de train y test para cada fold.\n",
    "# IMPORTANTE: Ajusta tu propia lógica de split (ej. 80/20) o la que necesites.\n",
    "# =============================================================================\n",
    "\n",
    "# Ejemplo:\n",
    "# targets_to_keep = ['fabp4', 'kith', 'cxcr4', 'comt', 'hmdh', 'akt1', 'ada17', 'TExtra']\n",
    "# label_mapping = {'fabp4': 0, 'kith': 1, 'cxcr4': 2, 'comt': 3, 'hmdh': 4, 'akt1': 5, 'ada17': 6, 'TExtra': 7}\n",
    "\n",
    "# filtered_data = data_all[data_all['Target'].isin(targets_to_keep)]\n",
    "# filtered_data['Label'] = filtered_data['Target'].map(label_mapping)\n",
    "\n",
    "# # Ejemplo de split simple:\n",
    "# from sklearn.model_selection import train_test_split\n",
    "# train_split, test_split = train_test_split(filtered_data, test_size=0.2, random_state=42)\n",
    "# train_split.to_csv(\"Fold1/train_data.csv\", index=False)\n",
    "# test_split.to_csv(\"Fold1/test_data.csv\", index=False)\n",
    "\n",
    "# # Crea una segunda partición (Fold2)\n",
    "# train_split2, test_split2 = train_test_split(filtered_data, test_size=0.2, random_state=123)\n",
    "# train_split2.to_csv(\"Fold2/train_data.csv\", index=False)\n",
    "# test_split2.to_csv(\"Fold2/test_data.csv\", index=False)"
   ]
  },
  {
   "cell_type": "markdown",
   "metadata": {},
   "source": [
    "### Definición de la Red Neuronal (PharmaNet)\n",
    "\n",
    "Esta sección describe la arquitectura del modelo. Usa una instancia la clase `Model(...)` en el codigo adjunto al taller. Tambien define el Optimizador y la Función de Pérdida"
   ]
  },
  {
   "cell_type": "code",
   "execution_count": null,
   "metadata": {},
   "outputs": [],
   "source": [
    "# =============================================================================\n",
    "# TODO: Define aquí tu clase 'Model' o importa una clase ya existente\n",
    "# Ajusta hiperparámetros como hidden_size, num_layers, etc.\n",
    "# ============================================================================="
   ]
  },
  {
   "cell_type": "markdown",
   "metadata": {},
   "source": [
    "### Preparación de Datasets y DataLoaders\n",
    "\n",
    "Para entrenar, se requiere convertir crear el dataset, usa la clase `SMILESDataset`. Asegurate de extraer el tamaño del vocabulario y Embeddings."
   ]
  },
  {
   "cell_type": "code",
   "execution_count": 1,
   "metadata": {},
   "outputs": [],
   "source": [
    "# =============================================================================\n",
    "# TODO: Define o importa tu clase SMILESDataset para procesar la columna 'Smiles'\n",
    "# y convertir cada carácter en un índice según un diccionario char_to_int\n",
    "# =============================================================================\n",
    "\n",
    "# =============================================================================\n",
    "# TODO: Determina el 'charset' (caracteres únicos) y crea 'char_to_int', \n",
    "# y luego instancia tus DataLoaders\n",
    "# =============================================================================\n",
    "\n",
    "# charset = set(\"\".join(list(train_data.Smiles)) + \"\".join(list(test_data.Smiles)))\n",
    "# char_to_int = {c: i for i, c in enumerate(charset)}\n",
    "# vocab_size = len(charset)\n",
    "# embed = max_length_sonrisa  # la longitud maxima de SMILES\n",
    "\n",
    "# train_dataset = SMILESDataset(train_data, vocab_size, char_to_int, embed)\n",
    "# train_loader = DataLoader(train_dataset, batch_size=64, shuffle=True)\n",
    "\n",
    "# test_dataset = SMILESDataset(test_data, vocab_size, char_to_int, embed)\n",
    "# test_loader = DataLoader(test_dataset, batch_size=64, shuffle=False)"
   ]
  },
  {
   "cell_type": "markdown",
   "metadata": {},
   "source": [
    "### Entrenamiento (dos folds)\n",
    "\n",
    "En esta fase, define tu función train(...) y tu función evaluate(...) (o valida en cada epoch). Se sugiere usar un criterio de pérdida como nn.BCELoss (si tu salida es sigmoid)\n",
    "\n",
    "Realiza el procedimiento de entrenamiento para cada fold. Tendrás dos modelos distintos al final (model_fold1.pth y model_fold2.pth)"
   ]
  },
  {
   "cell_type": "code",
   "execution_count": null,
   "metadata": {},
   "outputs": [],
   "source": [
    "# =============================================================================\n",
    "# TODO: Implementa la lógica de entrenamiento con funciones train() y evaluate().\n",
    "# Puedes inspirarte en el código base, usando optim.Adam, etc.\n",
    "# Recuerda entrenar con ambos folds y guardar cada modelo resultante.\n",
    "# ============================================================================="
   ]
  },
  {
   "cell_type": "markdown",
   "metadata": {},
   "source": [
    "### Inferencia y Métricas\n",
    "\n",
    "Tras entrenar tu modelo en ambos folds, es hora de realizar inferencia. Carga cada modelo por separado, realiza predicciones sobre el conjunto de test correspondiente. Luego, genera métricas como NAP, MAP, AUC, Accuracy, F-measure, o las que consideres necesarias.\n"
   ]
  },
  {
   "cell_type": "code",
   "execution_count": 2,
   "metadata": {},
   "outputs": [],
   "source": [
    "# =============================================================================\n",
    "# TODO: Carga tus dos modelos entrenados ('model_fold1.pth' y 'model_fold2.pth')\n",
    "# y realiza la inferencia sobre cada test_set.\n",
    "# =============================================================================\n",
    "\n",
    "# =============================================================================\n",
    "# TODO: Implementa o llama funciones para calcular AUC, F1, etc. \n",
    "# Compara con el \"modelo base\" del paper (si tienes datos de referencia).\n",
    "# ============================================================================="
   ]
  },
  {
   "cell_type": "markdown",
   "metadata": {},
   "source": [
    "### Visualización de la Distribución de Probabilidades\n",
    "\n",
    "Para cada muestra, podemos graficar la distribución de probabilidades que el modelo asigna a cada clase/target. Se te provee el siguiente ejemplo de función (plot_predictions). Asegúrate de modificar o ajustar para que muestre las clases correctas."
   ]
  },
  {
   "cell_type": "code",
   "execution_count": null,
   "metadata": {},
   "outputs": [],
   "source": [
    "# =============================================================================\n",
    "# TODO: Usa la función plot_predictions o crea la tuya propia para \n",
    "# mostrar las probabilidades de cada clase para un subconjunto de ejemplos.\n",
    "# =============================================================================\n"
   ]
  },
  {
   "cell_type": "markdown",
   "metadata": {},
   "source": [
    "### Comparación y Conclusiones\n",
    "\n",
    "Finalmente, compara las métricas de:\n",
    "- Fold 1\n",
    "- Fold 2\n",
    "- Modelo Base presentado en el paper\n",
    "  \n",
    "Discute:\n",
    "- Diferencias en la exactitud, AUC, F1, NAP, etc.\n",
    "- Posibles causas de esas diferencias (variabilidad, calidad de datos, hiperparámetros).\n",
    "- Efecto de haber agregado un nuevo target (¿afectó negativamente/positivamente al resto?).\n",
    "- Conclusiones finales y próximos pasos."
   ]
  },
  {
   "cell_type": "markdown",
   "metadata": {},
   "source": [
    "### Fin del Taller 🎉\n",
    "\n",
    "¡Felicidades! Has completado un flujo avanzado para entrenar e inferir con PharmaNet sobre datos DUDE (con al menos 10 targets y un target nuevo). A partir de aquí, puedes experimentar con distintos hiperparámetros, arquitecturas, y técnicas de augmentación de datos para mejorar el rendimiento de tu modelo.\n"
   ]
  }
 ],
 "metadata": {
  "kernelspec": {
   "display_name": "PharmaNet",
   "language": "python",
   "name": "python3"
  },
  "language_info": {
   "codemirror_mode": {
    "name": "ipython",
    "version": 3
   },
   "file_extension": ".py",
   "mimetype": "text/x-python",
   "name": "python",
   "nbconvert_exporter": "python",
   "pygments_lexer": "ipython3",
   "version": "3.8.19"
  }
 },
 "nbformat": 4,
 "nbformat_minor": 2
}
